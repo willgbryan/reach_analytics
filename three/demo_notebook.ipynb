{
 "cells": [
  {
   "attachments": {},
   "cell_type": "markdown",
   "metadata": {},
   "source": [
    "The packages below are commonly utilized in generated outputs so they will need to be installed"
   ]
  },
  {
   "cell_type": "code",
   "execution_count": null,
   "metadata": {},
   "outputs": [],
   "source": [
    "%pip install pandas\n",
    "%pip install openai\n",
    "%pip install numpy\n",
    "%pip install pytorch\n",
    "%pip install sklearn\n",
    "%pip install xgboost\n",
    "%pip install matplotlib\n",
    "%pip install seaborn"
   ]
  },
  {
   "attachments": {},
   "cell_type": "markdown",
   "metadata": {},
   "source": [
    "The notebook can be run as is to ask questions about the following dataset: https://www.kaggle.com/datasets/nelgiriyewithana/top-spotify-songs-2023\n",
    "\n",
    "You can change the target dataset by uploading a new set to the `three` directory and adjusting the `train_set_path` kwarg with the new filename."
   ]
  },
  {
   "cell_type": "code",
   "execution_count": null,
   "metadata": {},
   "outputs": [],
   "source": [
    "from pipeline import Reach\n",
    "import marqo\n",
    "import openai\n",
    "\n",
    "openai.api_key = '<openai api key goes here>'\n",
    "\n",
    "# Prompt goes here\n",
    "goal_prompt = \"I'd like some light statistical analysis performed on the data, return some common statistical summaries\"\n",
    "\n",
    "# This dataset description is optional\n",
    "dataset_description = \"\"\"\n",
    "    Description:\n",
    "This dataset contains a comprehensive list of the most famous songs of 2023 as listed on Spotify. The dataset offers a wealth of features beyond what is typically available in similar datasets. It provides insights into each song's attributes, popularity, and presence on various music platforms. The dataset includes information such as track name, artist(s) name, release date, Spotify playlists and charts, streaming statistics, Apple Music presence, Deezer presence, Shazam charts, and various audio features.\n",
    "\n",
    "Key Features:\n",
    "track_name: Name of the song\n",
    "artist(s)_name: Name of the artist(s) of the song\n",
    "artist_count: Number of artists contributing to the song\n",
    "released_year: Year when the song was released\n",
    "released_month: Month when the song was released\n",
    "released_day: Day of the month when the song was\n",
    "in_spotify_playlists: Number of Spotify playlists the song is included in\n",
    "in_spotify_charts: Presence and rank of the song on Spotify charts\n",
    "streams: Total number of streams on Spotify\n",
    "in_apple_playlists: Number of Apple Music playlists the song is included in\n",
    "in_apple_charts: Presence and rank of the song on Apple Music charts\n",
    "in_deezer_playlists: Number of Deezer playlists the song is included in\n",
    "in_deezer_charts: Presence and rank of the song on Deezer charts\n",
    "in_shazam_charts: Presence and rank of the song on Shazam charts\n",
    "bpm: Beats per minute, a measure of song tempo\n",
    "key: Key of the song\n",
    "mode: Mode of the song (major or minor)\n",
    "danceability: Percentage indicating how suitable the song is for dancing\n",
    "valence: Positivity of the song's musical content\n",
    "energy: Perceived energy level of the song\n",
    "acousticness: Amount of acoustic sound in the song\n",
    "instrumentalness: Amount of instrumental content in the song\n",
    "liveness: Presence of live performance elements\n",
    "speechiness: Amount of spoken words in the song\n",
    "\"\"\"\n",
    "\n",
    "r = Reach(\n",
    "    openai_api_key=openai.api_key,\n",
    "    marqo_client=marqo.Client(url=\"http://localhost:8882\"),\n",
    "    marqo_index='validation_testing',\n",
    "    # Data path handling will be refactored with the addition of the document loader \n",
    "    train_set_path='train.csv', \n",
    "    test_set_path='test.csv', \n",
    "    dataset_description=dataset_description, \n",
    "    goal_prompt=goal_prompt,\n",
    "    attempt_validation=True,\n",
    "    )\n",
    "\n",
    "r.main(n_suggestions=1, index_name=r.marqo_index)"
   ]
  }
 ],
 "metadata": {
  "language_info": {
   "name": "python"
  },
  "orig_nbformat": 4
 },
 "nbformat": 4,
 "nbformat_minor": 2
}
